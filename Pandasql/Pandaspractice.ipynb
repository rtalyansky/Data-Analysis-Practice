{
 "metadata": {
  "name": ""
 },
 "nbformat": 3,
 "nbformat_minor": 0,
 "worksheets": [
  {
   "cells": [
    {
     "cell_type": "code",
     "collapsed": false,
     "input": [
      "%matplotlib inline\n",
      "import pandas as pd \n",
      "import numpy as np\n",
      "import matplotlib.pyplot as plt\n",
      "import sqlite3\n",
      "segments=pd.read_csv(\"ch03_titanic.csv\")\n",
      "segments.head()\n",
      "db=(\"Northwind.db\")\n",
      "\n",
      "\n",
      "#pd.set_option('display.notebook_repr_html', False)\n",
      "#pd.set_option('display.max_columns', 100)\n",
      "#pd.set_option('display.max_rows', 100)\n"
     ],
     "language": "python",
     "metadata": {},
     "outputs": [],
     "prompt_number": 2
    },
    {
     "cell_type": "code",
     "collapsed": false,
     "input": [
      "from datetime import datetime\n"
     ],
     "language": "python",
     "metadata": {},
     "outputs": [],
     "prompt_number": 3
    },
    {
     "cell_type": "code",
     "collapsed": false,
     "input": [
      "now = datetime.now()\n",
      "now"
     ],
     "language": "python",
     "metadata": {},
     "outputs": [
      {
       "metadata": {},
       "output_type": "pyout",
       "prompt_number": 5,
       "text": [
        "datetime.datetime(2015, 2, 26, 21, 45, 38, 843601)"
       ]
      }
     ],
     "prompt_number": 5
    },
    {
     "cell_type": "code",
     "collapsed": false,
     "input": [
      "now.day\n"
     ],
     "language": "python",
     "metadata": {},
     "outputs": [
      {
       "metadata": {},
       "output_type": "pyout",
       "prompt_number": 6,
       "text": [
        "26"
       ]
      }
     ],
     "prompt_number": 6
    },
    {
     "cell_type": "code",
     "collapsed": false,
     "input": [
      "In [4]: s = pd.Series([1,3,5,np.nan,6,8])\n"
     ],
     "language": "python",
     "metadata": {},
     "outputs": [],
     "prompt_number": 7
    },
    {
     "cell_type": "code",
     "collapsed": false,
     "input": [
      "s"
     ],
     "language": "python",
     "metadata": {},
     "outputs": [
      {
       "metadata": {},
       "output_type": "pyout",
       "prompt_number": 8,
       "text": [
        "0     1\n",
        "1     3\n",
        "2     5\n",
        "3   NaN\n",
        "4     6\n",
        "5     8\n",
        "dtype: float64"
       ]
      }
     ],
     "prompt_number": 8
    },
    {
     "cell_type": "code",
     "collapsed": false,
     "input": [],
     "language": "python",
     "metadata": {},
     "outputs": [],
     "prompt_number": 8
    },
    {
     "cell_type": "code",
     "collapsed": false,
     "input": [],
     "language": "python",
     "metadata": {},
     "outputs": [],
     "prompt_number": 8
    },
    {
     "cell_type": "code",
     "collapsed": false,
     "input": [
      "segments=pd.read_csv(\"ch03_Titanic.csv\")\n",
      "segments.head()"
     ],
     "language": "python",
     "metadata": {},
     "outputs": [
      {
       "metadata": {},
       "output_type": "pyout",
       "prompt_number": 2,
       "text": [
        "  Survived Age Gender Class\n",
        "0        D   C      M     3\n",
        "1        D   C      M     3\n",
        "2        D   C      M     3\n",
        "3        D   C      M     3\n",
        "4        D   C      M     3\n",
        "\n",
        "[5 rows x 4 columns]"
       ]
      }
     ],
     "prompt_number": 2
    },
    {
     "cell_type": "code",
     "collapsed": false,
     "input": [
      "#db.Class.hist(bins=500)"
     ],
     "language": "python",
     "metadata": {},
     "outputs": [
      {
       "ename": "AttributeError",
       "evalue": "'str' object has no attribute 'Class'",
       "output_type": "pyerr",
       "traceback": [
        "\u001b[0;31m---------------------------------------------------------------------------\u001b[0m\n\u001b[0;31mAttributeError\u001b[0m                            Traceback (most recent call last)",
        "\u001b[0;32m<ipython-input-9-6ce86af2d171>\u001b[0m in \u001b[0;36m<module>\u001b[0;34m()\u001b[0m\n\u001b[0;32m----> 1\u001b[0;31m \u001b[0mdb\u001b[0m\u001b[0;34m.\u001b[0m\u001b[0mClass\u001b[0m\u001b[0;34m.\u001b[0m\u001b[0mhist\u001b[0m\u001b[0;34m(\u001b[0m\u001b[0mbins\u001b[0m\u001b[0;34m=\u001b[0m\u001b[0;36m500\u001b[0m\u001b[0;34m)\u001b[0m\u001b[0;34m\u001b[0m\u001b[0m\n\u001b[0m",
        "\u001b[0;31mAttributeError\u001b[0m: 'str' object has no attribute 'Class'"
       ]
      }
     ],
     "prompt_number": 9
    },
    {
     "cell_type": "code",
     "collapsed": false,
     "input": [
      "con = sqlite3.connect(\"Northwind.db\")\n",
      "cursor = con.cursor()\n",
      "cursor.execute(\"SELECT name FROM sqlite_master WHERE type='table';\")\n",
      "print(cursor.fetchall())"
     ],
     "language": "python",
     "metadata": {},
     "outputs": [
      {
       "output_type": "stream",
       "stream": "stdout",
       "text": [
        "[('Categories',), ('sqlite_sequence',), ('CustomerCustomerDemo',), ('CustomerDemographics',), ('Customers',), ('Employees',), ('EmployeeTerritories',), ('Order Details',), ('Orders',), ('Products',), ('Regions',), ('Shippers',), ('Suppliers',), ('Territories',)]\n"
       ]
      }
     ],
     "prompt_number": 3
    },
    {
     "cell_type": "code",
     "collapsed": false,
     "input": [
      "con = sqlite3.connect(\"Northwind.db\")\n",
      "db = pd.read_sql(\"SELECT * from Customers\", con)\n",
      "db"
     ],
     "language": "python",
     "metadata": {},
     "outputs": [
      {
       "html": [
        "<div style=\"max-height:1000px;max-width:1500px;overflow:auto;\">\n",
        "<table border=\"1\" class=\"dataframe\">\n",
        "  <tbody>\n",
        "    <tr>\n",
        "      <td>Index([], dtype='object')</td>\n",
        "      <td>Empty DataFrame</td>\n",
        "    </tr>\n",
        "  </tbody>\n",
        "</table>\n",
        "<p>0 rows \u00d7 11 columns</p>\n",
        "</div>"
       ],
       "metadata": {},
       "output_type": "pyout",
       "prompt_number": 18,
       "text": [
        "Empty DataFrame\n",
        "Columns: [CustomerID, CompanyName, ContactName, ContactTitle, Address, City, Region, PostalCode, Country, Phone, Fax]\n",
        "Index: []\n",
        "\n",
        "[0 rows x 11 columns]"
       ]
      }
     ],
     "prompt_number": 18
    },
    {
     "cell_type": "code",
     "collapsed": false,
     "input": [
      "\n",
      "import sqlite3 \n",
      "\n",
      "#def try_fetchone(cursor):\n",
      "\t#count = 0\n",
      "\t#while (True):\n",
      "\t\t#r = cursor.fetchone()\n",
      "\t\t#if r == None:\n",
      "\t\t\t#break\n",
      "\t\t#else:\n",
      "\t\t\t#count += 1\n",
      "\t\t\t#print (\"Row %d:\" % count), r\n",
      "\n",
      "#def try_fetchmany(cursor, howmany):\n",
      "\t#iteration = 0\n",
      "\t#while(True):\n",
      "\t\t#l = cursor.fetchmany(howmany)\n",
      "\t\t#if l == []:\n",
      "\t\t\t#break\n",
      "\t\t#else:\n",
      "\t\t\t#iteration += 1\n",
      "\t\t\t#print \"Iteration\", iteration\n",
      "\t\t\t#for r in l:\n",
      "\t\t\t\t#print r\n",
      "\n",
      "dbconn = sqlite3.connect ('Northwind.db') \n",
      "#dbconn.row_factory = sqlite3.Row\n",
      "#dbconn.text_factory = bytes\n",
      "\n",
      "cursor = dbconn.cursor()\n",
      "\n",
      "sql = \"select CustomerID \n",
      "from Customers\" \n",
      "\n",
      "cursor.execute(sql)\n",
      "#r = cursor.fetchone()\n",
      "\n",
      "#print type(r) \n",
      "#print tuple(r)\n",
      "#print r.keys()\n",
      "#print r['CustomerID']\n",
      "\n",
      "cursor.close()\n",
      "dbconn.close()\n",
      "r"
     ],
     "language": "python",
     "metadata": {},
     "outputs": [
      {
       "ename": "NameError",
       "evalue": "name 'r' is not defined",
       "output_type": "pyerr",
       "traceback": [
        "\u001b[0;31m---------------------------------------------------------------------------\u001b[0m\n\u001b[0;31mNameError\u001b[0m                                 Traceback (most recent call last)",
        "\u001b[0;32m<ipython-input-14-d3e4bc0e22b8>\u001b[0m in \u001b[0;36m<module>\u001b[0;34m()\u001b[0m\n\u001b[1;32m     42\u001b[0m \u001b[0mcursor\u001b[0m\u001b[0;34m.\u001b[0m\u001b[0mclose\u001b[0m\u001b[0;34m(\u001b[0m\u001b[0;34m)\u001b[0m\u001b[0;34m\u001b[0m\u001b[0m\n\u001b[1;32m     43\u001b[0m \u001b[0mdbconn\u001b[0m\u001b[0;34m.\u001b[0m\u001b[0mclose\u001b[0m\u001b[0;34m(\u001b[0m\u001b[0;34m)\u001b[0m\u001b[0;34m\u001b[0m\u001b[0m\n\u001b[0;32m---> 44\u001b[0;31m \u001b[0mr\u001b[0m\u001b[0;34m\u001b[0m\u001b[0m\n\u001b[0m",
        "\u001b[0;31mNameError\u001b[0m: name 'r' is not defined"
       ]
      }
     ],
     "prompt_number": 14
    },
    {
     "cell_type": "code",
     "collapsed": false,
     "input": [
      "con = sqlite3.connect(\"Northwind.db\")\n",
      "\n",
      "a = pd.read_sql (\"Select * from Products\", con)\n",
      "a"
     ],
     "language": "python",
     "metadata": {},
     "outputs": [
      {
       "html": [
        "<div style=\"max-height:1000px;max-width:1500px;overflow:auto;\">\n",
        "<table border=\"1\" class=\"dataframe\">\n",
        "  <thead>\n",
        "    <tr style=\"text-align: right;\">\n",
        "      <th></th>\n",
        "      <th>ProductID</th>\n",
        "      <th>ProductName</th>\n",
        "      <th>SupplierID</th>\n",
        "      <th>CategoryID</th>\n",
        "      <th>QuantityPerUnit</th>\n",
        "      <th>UnitPrice</th>\n",
        "      <th>UnitsInStock</th>\n",
        "      <th>UnitsOnOrder</th>\n",
        "      <th>ReorderLevel</th>\n",
        "      <th>Discontinued</th>\n",
        "    </tr>\n",
        "  </thead>\n",
        "  <tbody>\n",
        "    <tr>\n",
        "      <th>0 </th>\n",
        "      <td>  1</td>\n",
        "      <td>                            Chai</td>\n",
        "      <td> 1</td>\n",
        "      <td> 1</td>\n",
        "      <td>   10 boxes x 20 bags</td>\n",
        "      <td> 18.00</td>\n",
        "      <td>  39</td>\n",
        "      <td>  0</td>\n",
        "      <td> 10</td>\n",
        "      <td> 0</td>\n",
        "    </tr>\n",
        "    <tr>\n",
        "      <th>1 </th>\n",
        "      <td>  2</td>\n",
        "      <td>                           Chang</td>\n",
        "      <td> 1</td>\n",
        "      <td> 1</td>\n",
        "      <td>   24 - 12 oz bottles</td>\n",
        "      <td> 19.00</td>\n",
        "      <td>  17</td>\n",
        "      <td> 40</td>\n",
        "      <td> 25</td>\n",
        "      <td> 0</td>\n",
        "    </tr>\n",
        "    <tr>\n",
        "      <th>2 </th>\n",
        "      <td>  3</td>\n",
        "      <td>                   Aniseed Syrup</td>\n",
        "      <td> 1</td>\n",
        "      <td> 2</td>\n",
        "      <td>  12 - 550 ml bottles</td>\n",
        "      <td> 10.00</td>\n",
        "      <td>  13</td>\n",
        "      <td> 70</td>\n",
        "      <td> 25</td>\n",
        "      <td> 0</td>\n",
        "    </tr>\n",
        "    <tr>\n",
        "      <th>3 </th>\n",
        "      <td>  4</td>\n",
        "      <td>    Chef Anton's Cajun Seasoning</td>\n",
        "      <td> 2</td>\n",
        "      <td> 2</td>\n",
        "      <td>       48 - 6 oz jars</td>\n",
        "      <td> 22.00</td>\n",
        "      <td>  53</td>\n",
        "      <td>  0</td>\n",
        "      <td>  0</td>\n",
        "      <td> 0</td>\n",
        "    </tr>\n",
        "    <tr>\n",
        "      <th>4 </th>\n",
        "      <td>  5</td>\n",
        "      <td>          Chef Anton's Gumbo Mix</td>\n",
        "      <td> 2</td>\n",
        "      <td> 2</td>\n",
        "      <td>             36 boxes</td>\n",
        "      <td> 21.35</td>\n",
        "      <td>   0</td>\n",
        "      <td>  0</td>\n",
        "      <td>  0</td>\n",
        "      <td> 1</td>\n",
        "    </tr>\n",
        "    <tr>\n",
        "      <th>5 </th>\n",
        "      <td>  6</td>\n",
        "      <td>    Grandma's Boysenberry Spread</td>\n",
        "      <td> 3</td>\n",
        "      <td> 2</td>\n",
        "      <td>       12 - 8 oz jars</td>\n",
        "      <td> 25.00</td>\n",
        "      <td> 120</td>\n",
        "      <td>  0</td>\n",
        "      <td> 25</td>\n",
        "      <td> 0</td>\n",
        "    </tr>\n",
        "    <tr>\n",
        "      <th>6 </th>\n",
        "      <td>  7</td>\n",
        "      <td> Uncle Bob's Organic Dried Pears</td>\n",
        "      <td> 3</td>\n",
        "      <td> 7</td>\n",
        "      <td>      12 - 1 lb pkgs.</td>\n",
        "      <td> 30.00</td>\n",
        "      <td>  15</td>\n",
        "      <td>  0</td>\n",
        "      <td> 10</td>\n",
        "      <td> 0</td>\n",
        "    </tr>\n",
        "    <tr>\n",
        "      <th>7 </th>\n",
        "      <td>  8</td>\n",
        "      <td>      Northwoods Cranberry Sauce</td>\n",
        "      <td> 3</td>\n",
        "      <td> 2</td>\n",
        "      <td>      12 - 12 oz jars</td>\n",
        "      <td> 40.00</td>\n",
        "      <td>   6</td>\n",
        "      <td>  0</td>\n",
        "      <td>  0</td>\n",
        "      <td> 0</td>\n",
        "    </tr>\n",
        "    <tr>\n",
        "      <th>8 </th>\n",
        "      <td>  9</td>\n",
        "      <td>                 Mishi Kobe Niku</td>\n",
        "      <td> 4</td>\n",
        "      <td> 6</td>\n",
        "      <td>     18 - 500 g pkgs.</td>\n",
        "      <td> 97.00</td>\n",
        "      <td>  29</td>\n",
        "      <td>  0</td>\n",
        "      <td>  0</td>\n",
        "      <td> 1</td>\n",
        "    </tr>\n",
        "    <tr>\n",
        "      <th>9 </th>\n",
        "      <td> 10</td>\n",
        "      <td>                           Ikura</td>\n",
        "      <td> 4</td>\n",
        "      <td> 8</td>\n",
        "      <td>     12 - 200 ml jars</td>\n",
        "      <td> 31.00</td>\n",
        "      <td>  31</td>\n",
        "      <td>  0</td>\n",
        "      <td>  0</td>\n",
        "      <td> 0</td>\n",
        "    </tr>\n",
        "    <tr>\n",
        "      <th>10</th>\n",
        "      <td> 11</td>\n",
        "      <td>                  Queso Cabrales</td>\n",
        "      <td> 5</td>\n",
        "      <td> 4</td>\n",
        "      <td>            1 kg pkg.</td>\n",
        "      <td> 21.00</td>\n",
        "      <td>  22</td>\n",
        "      <td> 30</td>\n",
        "      <td> 30</td>\n",
        "      <td> 0</td>\n",
        "    </tr>\n",
        "    <tr>\n",
        "      <th>11</th>\n",
        "      <td> 12</td>\n",
        "      <td>       Queso Manchego La Pastora</td>\n",
        "      <td> 5</td>\n",
        "      <td> 4</td>\n",
        "      <td>     10 - 500 g pkgs.</td>\n",
        "      <td> 38.00</td>\n",
        "      <td>  86</td>\n",
        "      <td>  0</td>\n",
        "      <td>  0</td>\n",
        "      <td> 0</td>\n",
        "    </tr>\n",
        "    <tr>\n",
        "      <th>12</th>\n",
        "      <td> 13</td>\n",
        "      <td>                           Konbu</td>\n",
        "      <td> 6</td>\n",
        "      <td> 8</td>\n",
        "      <td>             2 kg box</td>\n",
        "      <td>  6.00</td>\n",
        "      <td>  24</td>\n",
        "      <td>  0</td>\n",
        "      <td>  5</td>\n",
        "      <td> 0</td>\n",
        "    </tr>\n",
        "    <tr>\n",
        "      <th>13</th>\n",
        "      <td> 14</td>\n",
        "      <td>                            Tofu</td>\n",
        "      <td> 6</td>\n",
        "      <td> 7</td>\n",
        "      <td>     40 - 100 g pkgs.</td>\n",
        "      <td> 23.25</td>\n",
        "      <td>  35</td>\n",
        "      <td>  0</td>\n",
        "      <td>  0</td>\n",
        "      <td> 0</td>\n",
        "    </tr>\n",
        "    <tr>\n",
        "      <th>14</th>\n",
        "      <td> 15</td>\n",
        "      <td>                    Genen Shouyu</td>\n",
        "      <td> 6</td>\n",
        "      <td> 2</td>\n",
        "      <td>  24 - 250 ml bottles</td>\n",
        "      <td> 15.50</td>\n",
        "      <td>  39</td>\n",
        "      <td>  0</td>\n",
        "      <td>  5</td>\n",
        "      <td> 0</td>\n",
        "    </tr>\n",
        "    <tr>\n",
        "      <th>15</th>\n",
        "      <td> 16</td>\n",
        "      <td>                         Pavlova</td>\n",
        "      <td> 7</td>\n",
        "      <td> 3</td>\n",
        "      <td>     32 - 500 g boxes</td>\n",
        "      <td> 17.45</td>\n",
        "      <td>  29</td>\n",
        "      <td>  0</td>\n",
        "      <td> 10</td>\n",
        "      <td> 0</td>\n",
        "    </tr>\n",
        "    <tr>\n",
        "      <th>16</th>\n",
        "      <td> 17</td>\n",
        "      <td>                    Alice Mutton</td>\n",
        "      <td> 7</td>\n",
        "      <td> 6</td>\n",
        "      <td>       20 - 1 kg tins</td>\n",
        "      <td> 39.00</td>\n",
        "      <td>   0</td>\n",
        "      <td>  0</td>\n",
        "      <td>  0</td>\n",
        "      <td> 1</td>\n",
        "    </tr>\n",
        "    <tr>\n",
        "      <th>17</th>\n",
        "      <td> 18</td>\n",
        "      <td>                Carnarvon Tigers</td>\n",
        "      <td> 7</td>\n",
        "      <td> 8</td>\n",
        "      <td>           16 kg pkg.</td>\n",
        "      <td> 62.50</td>\n",
        "      <td>  42</td>\n",
        "      <td>  0</td>\n",
        "      <td>  0</td>\n",
        "      <td> 0</td>\n",
        "    </tr>\n",
        "    <tr>\n",
        "      <th>18</th>\n",
        "      <td> 19</td>\n",
        "      <td>      Teatime Chocolate Biscuits</td>\n",
        "      <td> 8</td>\n",
        "      <td> 3</td>\n",
        "      <td> 10 boxes x 12 pieces</td>\n",
        "      <td>  9.20</td>\n",
        "      <td>  25</td>\n",
        "      <td>  0</td>\n",
        "      <td>  5</td>\n",
        "      <td> 0</td>\n",
        "    </tr>\n",
        "    <tr>\n",
        "      <th>19</th>\n",
        "      <td> 20</td>\n",
        "      <td>          Sir Rodney's Marmalade</td>\n",
        "      <td> 8</td>\n",
        "      <td> 3</td>\n",
        "      <td>        30 gift boxes</td>\n",
        "      <td> 81.00</td>\n",
        "      <td>  40</td>\n",
        "      <td>  0</td>\n",
        "      <td>  0</td>\n",
        "      <td> 0</td>\n",
        "    </tr>\n",
        "  </tbody>\n",
        "</table>\n",
        "<p>20 rows \u00d7 10 columns</p>\n",
        "</div>"
       ],
       "metadata": {},
       "output_type": "pyout",
       "prompt_number": 58,
       "text": [
        "    ProductID                      ProductName  SupplierID  CategoryID  \\\n",
        "0           1                             Chai           1           1   \n",
        "1           2                            Chang           1           1   \n",
        "2           3                    Aniseed Syrup           1           2   \n",
        "3           4     Chef Anton's Cajun Seasoning           2           2   \n",
        "4           5           Chef Anton's Gumbo Mix           2           2   \n",
        "5           6     Grandma's Boysenberry Spread           3           2   \n",
        "6           7  Uncle Bob's Organic Dried Pears           3           7   \n",
        "7           8       Northwoods Cranberry Sauce           3           2   \n",
        "8           9                  Mishi Kobe Niku           4           6   \n",
        "9          10                            Ikura           4           8   \n",
        "10         11                   Queso Cabrales           5           4   \n",
        "11         12        Queso Manchego La Pastora           5           4   \n",
        "12         13                            Konbu           6           8   \n",
        "13         14                             Tofu           6           7   \n",
        "14         15                     Genen Shouyu           6           2   \n",
        "15         16                          Pavlova           7           3   \n",
        "16         17                     Alice Mutton           7           6   \n",
        "17         18                 Carnarvon Tigers           7           8   \n",
        "18         19       Teatime Chocolate Biscuits           8           3   \n",
        "19         20           Sir Rodney's Marmalade           8           3   \n",
        "\n",
        "         QuantityPerUnit  UnitPrice  UnitsInStock  UnitsOnOrder  ReorderLevel  \\\n",
        "0     10 boxes x 20 bags      18.00            39             0            10   \n",
        "1     24 - 12 oz bottles      19.00            17            40            25   \n",
        "2    12 - 550 ml bottles      10.00            13            70            25   \n",
        "3         48 - 6 oz jars      22.00            53             0             0   \n",
        "4               36 boxes      21.35             0             0             0   \n",
        "5         12 - 8 oz jars      25.00           120             0            25   \n",
        "6        12 - 1 lb pkgs.      30.00            15             0            10   \n",
        "7        12 - 12 oz jars      40.00             6             0             0   \n",
        "8       18 - 500 g pkgs.      97.00            29             0             0   \n",
        "9       12 - 200 ml jars      31.00            31             0             0   \n",
        "10             1 kg pkg.      21.00            22            30            30   \n",
        "11      10 - 500 g pkgs.      38.00            86             0             0   \n",
        "12              2 kg box       6.00            24             0             5   \n",
        "13      40 - 100 g pkgs.      23.25            35             0             0   \n",
        "14   24 - 250 ml bottles      15.50            39             0             5   \n",
        "15      32 - 500 g boxes      17.45            29             0            10   \n",
        "16        20 - 1 kg tins      39.00             0             0             0   \n",
        "17            16 kg pkg.      62.50            42             0             0   \n",
        "18  10 boxes x 12 pieces       9.20            25             0             5   \n",
        "19         30 gift boxes      81.00            40             0             0   \n",
        "\n",
        "   Discontinued  \n",
        "0             0  \n",
        "1             0  \n",
        "2             0  \n",
        "3             0  \n",
        "4             1  \n",
        "5             0  \n",
        "6             0  \n",
        "7             0  \n",
        "8             1  \n",
        "9             0  \n",
        "10            0  \n",
        "11            0  \n",
        "12            0  \n",
        "13            0  \n",
        "14            0  \n",
        "15            0  \n",
        "16            1  \n",
        "17            0  \n",
        "18            0  \n",
        "19            0  \n",
        "\n",
        "[20 rows x 10 columns]"
       ]
      }
     ],
     "prompt_number": 58
    },
    {
     "cell_type": "code",
     "collapsed": false,
     "input": [
      "a.CategoryID.value_counts().plot(kind='barh')"
     ],
     "language": "python",
     "metadata": {},
     "outputs": [
      {
       "metadata": {},
       "output_type": "pyout",
       "prompt_number": 59,
       "text": [
        "<matplotlib.axes.AxesSubplot at 0x7ff32c920b00>"
       ]
      },
      {
       "metadata": {},
       "output_type": "display_data",
       "png": "[encoded data removed]",
       "text": [
        "<matplotlib.figure.Figure at 0x7ff32c9288d0>"
       ]
      }
     ],
     "prompt_number": 59
    },
    {
     "cell_type": "code",
     "collapsed": false,
     "input": [
      "a.UnitPrice.plot(kind='barh')"
     ],
     "language": "python",
     "metadata": {},
     "outputs": [
      {
       "metadata": {},
       "output_type": "pyout",
       "prompt_number": 62,
       "text": [
        "<matplotlib.axes.AxesSubplot at 0x7ff32c6bc8d0>"
       ]
      },
      {
       "metadata": {},
       "output_type": "display_data",
       "png": "[encoded data removed]",
       "text": [
        "<matplotlib.figure.Figure at 0x7ff32c920940>"
       ]
      }
     ],
     "prompt_number": 62
    },
    {
     "cell_type": "code",
     "collapsed": false,
     "input": [],
     "language": "python",
     "metadata": {},
     "outputs": []
    }
   ],
   "metadata": {}
  }
 ]
}